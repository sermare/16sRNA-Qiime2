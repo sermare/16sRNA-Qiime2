{
  "nbformat": 4,
  "nbformat_minor": 0,
  "metadata": {
    "colab": {
      "name": "Te damos la bienvenida a Colaboratory",
      "provenance": [],
      "collapsed_sections": [],
      "include_colab_link": true
    },
    "kernelspec": {
      "display_name": "Python 3",
      "name": "python3"
    }
  },
  "cells": [
    {
      "cell_type": "markdown",
      "metadata": {
        "id": "view-in-github",
        "colab_type": "text"
      },
      "source": [
        "<a href=\"https://colab.research.google.com/github/sermare/rotation1-UCB/blob/main/qiime2-Tutorial.ipynb\" target=\"_parent\"><img src=\"https://colab.research.google.com/assets/colab-badge.svg\" alt=\"Open In Colab\"/></a>"
      ]
    },
    {
      "cell_type": "markdown",
      "metadata": {
        "id": "GPJfpbua7K2d"
      },
      "source": [
        "#Conda + Google Colab\n",
        "# These firsts steps install Conda when using Google Colab.\n",
        "\n",
        "Conda is package management system which quickly installs, runs and updates packages and their dependencies."
      ]
    },
    {
      "cell_type": "code",
      "metadata": {
        "id": "wTYl1v2H-UaA",
        "outputId": "9382669b-227d-4ac9-8adf-91cb97e229be",
        "colab": {
          "base_uri": "https://localhost:8080/"
        }
      },
      "source": [
        "################################################################################\n",
        "# INSTALL CONDA ON GOOGLE COLAB\n",
        "################################################################################\n",
        "! wget https://repo.anaconda.com/miniconda/Miniconda3-py37_4.8.2-Linux-x86_64.sh\n",
        "! chmod +x Miniconda3-py37_4.8.2-Linux-x86_64.sh\n",
        "! bash ./Miniconda3-py37_4.8.2-Linux-x86_64.sh -b -f -p /usr/local\n",
        "import sys\n",
        "sys.path.append('/usr/local/lib/python3.7/site-packages/')"
      ],
      "execution_count": 4,
      "outputs": [
        {
          "output_type": "stream",
          "name": "stdout",
          "text": [
            "--2021-10-05 15:14:15--  https://repo.anaconda.com/miniconda/Miniconda3-py37_4.8.2-Linux-x86_64.sh\n",
            "Resolving repo.anaconda.com (repo.anaconda.com)... 104.16.131.3, 104.16.130.3, 2606:4700::6810:8203, ...\n",
            "Connecting to repo.anaconda.com (repo.anaconda.com)|104.16.131.3|:443... connected.\n",
            "HTTP request sent, awaiting response... 200 OK\n",
            "Length: 85055499 (81M) [application/x-sh]\n",
            "Saving to: ‘Miniconda3-py37_4.8.2-Linux-x86_64.sh’\n",
            "\n",
            "Miniconda3-py37_4.8 100%[===================>]  81.12M   208MB/s    in 0.4s    \n",
            "\n",
            "2021-10-05 15:14:16 (208 MB/s) - ‘Miniconda3-py37_4.8.2-Linux-x86_64.sh’ saved [85055499/85055499]\n",
            "\n",
            "PREFIX=/usr/local\n",
            "Unpacking payload ...\n",
            "Collecting package metadata (current_repodata.json): - \b\b\\ \b\b| \b\bdone\n",
            "Solving environment: - \b\b\\ \b\bdone\n",
            "\n",
            "## Package Plan ##\n",
            "\n",
            "  environment location: /usr/local\n",
            "\n",
            "  added / updated specs:\n",
            "    - _libgcc_mutex==0.1=main\n",
            "    - asn1crypto==1.3.0=py37_0\n",
            "    - ca-certificates==2020.1.1=0\n",
            "    - certifi==2019.11.28=py37_0\n",
            "    - cffi==1.14.0=py37h2e261b9_0\n",
            "    - chardet==3.0.4=py37_1003\n",
            "    - conda-package-handling==1.6.0=py37h7b6447c_0\n",
            "    - conda==4.8.2=py37_0\n",
            "    - cryptography==2.8=py37h1ba5d50_0\n",
            "    - idna==2.8=py37_0\n",
            "    - ld_impl_linux-64==2.33.1=h53a641e_7\n",
            "    - libedit==3.1.20181209=hc058e9b_0\n",
            "    - libffi==3.2.1=hd88cf55_4\n",
            "    - libgcc-ng==9.1.0=hdf63c60_0\n",
            "    - libstdcxx-ng==9.1.0=hdf63c60_0\n",
            "    - ncurses==6.2=he6710b0_0\n",
            "    - openssl==1.1.1d=h7b6447c_4\n",
            "    - pip==20.0.2=py37_1\n",
            "    - pycosat==0.6.3=py37h7b6447c_0\n",
            "    - pycparser==2.19=py37_0\n",
            "    - pyopenssl==19.1.0=py37_0\n",
            "    - pysocks==1.7.1=py37_0\n",
            "    - python==3.7.6=h0371630_2\n",
            "    - readline==7.0=h7b6447c_5\n",
            "    - requests==2.22.0=py37_1\n",
            "    - ruamel_yaml==0.15.87=py37h7b6447c_0\n",
            "    - setuptools==45.2.0=py37_0\n",
            "    - six==1.14.0=py37_0\n",
            "    - sqlite==3.31.1=h7b6447c_0\n",
            "    - tk==8.6.8=hbc83047_0\n",
            "    - tqdm==4.42.1=py_0\n",
            "    - urllib3==1.25.8=py37_0\n",
            "    - wheel==0.34.2=py37_0\n",
            "    - xz==5.2.4=h14c3975_4\n",
            "    - yaml==0.1.7=had09818_2\n",
            "    - zlib==1.2.11=h7b6447c_3\n",
            "\n",
            "\n",
            "The following NEW packages will be INSTALLED:\n",
            "\n",
            "  _libgcc_mutex      pkgs/main/linux-64::_libgcc_mutex-0.1-main\n",
            "  asn1crypto         pkgs/main/linux-64::asn1crypto-1.3.0-py37_0\n",
            "  ca-certificates    pkgs/main/linux-64::ca-certificates-2020.1.1-0\n",
            "  certifi            pkgs/main/linux-64::certifi-2019.11.28-py37_0\n",
            "  cffi               pkgs/main/linux-64::cffi-1.14.0-py37h2e261b9_0\n",
            "  chardet            pkgs/main/linux-64::chardet-3.0.4-py37_1003\n",
            "  conda              pkgs/main/linux-64::conda-4.8.2-py37_0\n",
            "  conda-package-han~ pkgs/main/linux-64::conda-package-handling-1.6.0-py37h7b6447c_0\n",
            "  cryptography       pkgs/main/linux-64::cryptography-2.8-py37h1ba5d50_0\n",
            "  idna               pkgs/main/linux-64::idna-2.8-py37_0\n",
            "  ld_impl_linux-64   pkgs/main/linux-64::ld_impl_linux-64-2.33.1-h53a641e_7\n",
            "  libedit            pkgs/main/linux-64::libedit-3.1.20181209-hc058e9b_0\n",
            "  libffi             pkgs/main/linux-64::libffi-3.2.1-hd88cf55_4\n",
            "  libgcc-ng          pkgs/main/linux-64::libgcc-ng-9.1.0-hdf63c60_0\n",
            "  libstdcxx-ng       pkgs/main/linux-64::libstdcxx-ng-9.1.0-hdf63c60_0\n",
            "  ncurses            pkgs/main/linux-64::ncurses-6.2-he6710b0_0\n",
            "  openssl            pkgs/main/linux-64::openssl-1.1.1d-h7b6447c_4\n",
            "  pip                pkgs/main/linux-64::pip-20.0.2-py37_1\n",
            "  pycosat            pkgs/main/linux-64::pycosat-0.6.3-py37h7b6447c_0\n",
            "  pycparser          pkgs/main/linux-64::pycparser-2.19-py37_0\n",
            "  pyopenssl          pkgs/main/linux-64::pyopenssl-19.1.0-py37_0\n",
            "  pysocks            pkgs/main/linux-64::pysocks-1.7.1-py37_0\n",
            "  python             pkgs/main/linux-64::python-3.7.6-h0371630_2\n",
            "  readline           pkgs/main/linux-64::readline-7.0-h7b6447c_5\n",
            "  requests           pkgs/main/linux-64::requests-2.22.0-py37_1\n",
            "  ruamel_yaml        pkgs/main/linux-64::ruamel_yaml-0.15.87-py37h7b6447c_0\n",
            "  setuptools         pkgs/main/linux-64::setuptools-45.2.0-py37_0\n",
            "  six                pkgs/main/linux-64::six-1.14.0-py37_0\n",
            "  sqlite             pkgs/main/linux-64::sqlite-3.31.1-h7b6447c_0\n",
            "  tk                 pkgs/main/linux-64::tk-8.6.8-hbc83047_0\n",
            "  tqdm               pkgs/main/noarch::tqdm-4.42.1-py_0\n",
            "  urllib3            pkgs/main/linux-64::urllib3-1.25.8-py37_0\n",
            "  wheel              pkgs/main/linux-64::wheel-0.34.2-py37_0\n",
            "  xz                 pkgs/main/linux-64::xz-5.2.4-h14c3975_4\n",
            "  yaml               pkgs/main/linux-64::yaml-0.1.7-had09818_2\n",
            "  zlib               pkgs/main/linux-64::zlib-1.2.11-h7b6447c_3\n",
            "\n",
            "\n",
            "Preparing transaction: / \b\b- \b\b\\ \b\b| \b\bdone\n",
            "Executing transaction: - \b\b\\ \b\b| \b\b/ \b\b- \b\b\\ \b\b| \b\b/ \b\b- \b\b\\ \b\b| \b\b/ \b\b- \b\b\\ \b\b| \b\b/ \b\b- \b\b\\ \b\b| \b\b/ \b\b- \b\bdone\n",
            "installation finished.\n",
            "WARNING:\n",
            "    You currently have a PYTHONPATH environment variable set. This may cause\n",
            "    unexpected behavior when running the Python interpreter in Miniconda3.\n",
            "    For best results, please verify that your PYTHONPATH only points to\n",
            "    directories of packages that are compatible with the Python interpreter\n",
            "    in Miniconda3: /usr/local\n"
          ]
        }
      ]
    },
    {
      "cell_type": "code",
      "metadata": {
        "id": "mA-MV3BB-rRz",
        "outputId": "26141840-6fce-40fe-eeac-f6538d3b202d",
        "colab": {
          "base_uri": "https://localhost:8080/"
        }
      },
      "source": [
        "!conda install wget"
      ],
      "execution_count": 5,
      "outputs": [
        {
          "output_type": "stream",
          "name": "stdout",
          "text": [
            "Collecting package metadata (current_repodata.json): - \b\b\\ \b\b| \b\b/ \b\b- \b\b\\ \b\b| \b\b/ \b\b- \b\b\\ \b\b| \b\b/ \b\b- \b\b\\ \b\b| \b\b/ \b\b- \b\bdone\n",
            "Solving environment: | \b\b/ \b\b- \b\bdone\n",
            "\n",
            "## Package Plan ##\n",
            "\n",
            "  environment location: /usr/local\n",
            "\n",
            "  added / updated specs:\n",
            "    - wget\n",
            "\n",
            "\n",
            "The following packages will be downloaded:\n",
            "\n",
            "    package                    |            build\n",
            "    ---------------------------|-----------------\n",
            "    ca-certificates-2021.7.5   |       h06a4308_1         113 KB\n",
            "    certifi-2021.5.30          |   py37h06a4308_0         139 KB\n",
            "    conda-4.10.3               |   py37h06a4308_0         2.9 MB\n",
            "    openssl-1.1.1l             |       h7f8727e_0         2.5 MB\n",
            "    wget-1.20.1                |       h20c2e04_0         818 KB\n",
            "    ------------------------------------------------------------\n",
            "                                           Total:         6.4 MB\n",
            "\n",
            "The following NEW packages will be INSTALLED:\n",
            "\n",
            "  wget               pkgs/main/linux-64::wget-1.20.1-h20c2e04_0\n",
            "\n",
            "The following packages will be UPDATED:\n",
            "\n",
            "  ca-certificates                                2020.1.1-0 --> 2021.7.5-h06a4308_1\n",
            "  certifi                                 2019.11.28-py37_0 --> 2021.5.30-py37h06a4308_0\n",
            "  conda                                        4.8.2-py37_0 --> 4.10.3-py37h06a4308_0\n",
            "  openssl                                 1.1.1d-h7b6447c_4 --> 1.1.1l-h7f8727e_0\n",
            "\n",
            "\n",
            "Proceed ([y]/n)? y\n",
            "\n",
            "\n",
            "Downloading and Extracting Packages\n",
            "ca-certificates-2021 | 113 KB    | : 100% 1.0/1 [00:00<00:00,  9.96it/s]\n",
            "openssl-1.1.1l       | 2.5 MB    | : 100% 1.0/1 [00:00<00:00,  7.25it/s]\n",
            "certifi-2021.5.30    | 139 KB    | : 100% 1.0/1 [00:00<00:00, 20.36it/s]\n",
            "wget-1.20.1          | 818 KB    | : 100% 1.0/1 [00:00<00:00, 12.85it/s]\n",
            "conda-4.10.3         | 2.9 MB    | : 100% 1.0/1 [00:00<00:00,  6.36it/s]\n",
            "Preparing transaction: | \b\bdone\n",
            "Verifying transaction: - \b\b\\ \b\bdone\n",
            "Executing transaction: / \b\bdone\n"
          ]
        }
      ]
    },
    {
      "cell_type": "code",
      "metadata": {
        "id": "Svc4CUwcAHdu",
        "outputId": "9c66f7f5-faa8-4faa-bd1f-a1e56fde822e",
        "colab": {
          "base_uri": "https://localhost:8080/"
        }
      },
      "source": [
        "%%bash\n",
        "conda install --channel defaults conda python=3.6 --yes\n",
        "conda update --channel defaults --all --yes"
      ],
      "execution_count": 6,
      "outputs": [
        {
          "output_type": "stream",
          "name": "stdout",
          "text": [
            "Collecting package metadata (current_repodata.json): ...working... done\n",
            "Solving environment: ...working... done\n",
            "\n",
            "## Package Plan ##\n",
            "\n",
            "  environment location: /usr/local\n",
            "\n",
            "  added / updated specs:\n",
            "    - conda\n",
            "    - python=3.6\n",
            "\n",
            "\n",
            "The following packages will be downloaded:\n",
            "\n",
            "    package                    |            build\n",
            "    ---------------------------|-----------------\n",
            "    brotlipy-0.7.0             |py36h27cfd23_1003         320 KB\n",
            "    certifi-2021.5.30          |   py36h06a4308_0         139 KB\n",
            "    cffi-1.14.6                |   py36h400218f_0         220 KB\n",
            "    charset-normalizer-2.0.4   |     pyhd3eb1b0_0          35 KB\n",
            "    conda-4.10.3               |   py36h06a4308_0         2.9 MB\n",
            "    conda-package-handling-1.7.3|   py36h27cfd23_1         882 KB\n",
            "    cryptography-3.4.7         |   py36hd23ed53_0         903 KB\n",
            "    idna-3.2                   |     pyhd3eb1b0_0          48 KB\n",
            "    libffi-3.3                 |       he6710b0_2          50 KB\n",
            "    pip-21.0.1                 |   py36h06a4308_0         1.8 MB\n",
            "    pycosat-0.6.3              |   py36h27cfd23_0          82 KB\n",
            "    pycparser-2.20             |             py_2          94 KB\n",
            "    pyopenssl-20.0.1           |     pyhd3eb1b0_1          49 KB\n",
            "    pysocks-1.7.1              |   py36h06a4308_0          31 KB\n",
            "    python-3.6.13              |       h12debd9_1        32.5 MB\n",
            "    readline-8.1               |       h27cfd23_0         362 KB\n",
            "    requests-2.26.0            |     pyhd3eb1b0_0          59 KB\n",
            "    ruamel_yaml-0.15.100       |   py36h27cfd23_0         253 KB\n",
            "    setuptools-58.0.4          |   py36h06a4308_0         788 KB\n",
            "    six-1.16.0                 |     pyhd3eb1b0_0          18 KB\n",
            "    sqlite-3.36.0              |       hc218d9a_0         990 KB\n",
            "    tk-8.6.11                  |       h1ccaba5_0         3.0 MB\n",
            "    urllib3-1.26.6             |     pyhd3eb1b0_1         112 KB\n",
            "    wheel-0.37.0               |     pyhd3eb1b0_1          33 KB\n",
            "    xz-5.2.5                   |       h7b6447c_0         341 KB\n",
            "    yaml-0.2.5                 |       h7b6447c_0          75 KB\n",
            "    ------------------------------------------------------------\n",
            "                                           Total:        45.9 MB\n",
            "\n",
            "The following NEW packages will be INSTALLED:\n",
            "\n",
            "  brotlipy           pkgs/main/linux-64::brotlipy-0.7.0-py36h27cfd23_1003\n",
            "  charset-normalizer pkgs/main/noarch::charset-normalizer-2.0.4-pyhd3eb1b0_0\n",
            "\n",
            "The following packages will be REMOVED:\n",
            "\n",
            "  asn1crypto-1.3.0-py37_0\n",
            "  chardet-3.0.4-py37_1003\n",
            "\n",
            "The following packages will be UPDATED:\n",
            "\n",
            "  cffi                                1.14.0-py37h2e261b9_0 --> 1.14.6-py36h400218f_0\n",
            "  conda-package-han~                   1.6.0-py37h7b6447c_0 --> 1.7.3-py36h27cfd23_1\n",
            "  cryptography                           2.8-py37h1ba5d50_0 --> 3.4.7-py36hd23ed53_0\n",
            "  idna                  pkgs/main/linux-64::idna-2.8-py37_0 --> pkgs/main/noarch::idna-3.2-pyhd3eb1b0_0\n",
            "  libffi                                   3.2.1-hd88cf55_4 --> 3.3-he6710b0_2\n",
            "  pip                                         20.0.2-py37_1 --> 21.0.1-py36h06a4308_0\n",
            "  pycparser          pkgs/main/linux-64::pycparser-2.19-py~ --> pkgs/main/noarch::pycparser-2.20-py_2\n",
            "  pyopenssl          pkgs/main/linux-64::pyopenssl-19.1.0-~ --> pkgs/main/noarch::pyopenssl-20.0.1-pyhd3eb1b0_1\n",
            "  readline                                   7.0-h7b6447c_5 --> 8.1-h27cfd23_0\n",
            "  requests           pkgs/main/linux-64::requests-2.22.0-p~ --> pkgs/main/noarch::requests-2.26.0-pyhd3eb1b0_0\n",
            "  ruamel_yaml                        0.15.87-py37h7b6447c_0 --> 0.15.100-py36h27cfd23_0\n",
            "  setuptools                                  45.2.0-py37_0 --> 58.0.4-py36h06a4308_0\n",
            "  six                 pkgs/main/linux-64::six-1.14.0-py37_0 --> pkgs/main/noarch::six-1.16.0-pyhd3eb1b0_0\n",
            "  sqlite                                  3.31.1-h7b6447c_0 --> 3.36.0-hc218d9a_0\n",
            "  tk                                       8.6.8-hbc83047_0 --> 8.6.11-h1ccaba5_0\n",
            "  urllib3            pkgs/main/linux-64::urllib3-1.25.8-py~ --> pkgs/main/noarch::urllib3-1.26.6-pyhd3eb1b0_1\n",
            "  wheel              pkgs/main/linux-64::wheel-0.34.2-py37~ --> pkgs/main/noarch::wheel-0.37.0-pyhd3eb1b0_1\n",
            "  xz                                       5.2.4-h14c3975_4 --> 5.2.5-h7b6447c_0\n",
            "  yaml                                     0.1.7-had09818_2 --> 0.2.5-h7b6447c_0\n",
            "\n",
            "The following packages will be DOWNGRADED:\n",
            "\n",
            "  certifi                          2021.5.30-py37h06a4308_0 --> 2021.5.30-py36h06a4308_0\n",
            "  conda                               4.10.3-py37h06a4308_0 --> 4.10.3-py36h06a4308_0\n",
            "  pycosat                              0.6.3-py37h7b6447c_0 --> 0.6.3-py36h27cfd23_0\n",
            "  pysocks                                      1.7.1-py37_0 --> 1.7.1-py36h06a4308_0\n",
            "  python                                   3.7.6-h0371630_2 --> 3.6.13-h12debd9_1\n",
            "\n",
            "\n",
            "\n",
            "Downloading and Extracting Packages\n",
            "\rlibffi-3.3           | 50 KB     |            |   0% \rlibffi-3.3           | 50 KB     | ########## | 100% \n",
            "\rcffi-1.14.6          | 220 KB    |            |   0% \rcffi-1.14.6          | 220 KB    | ########## | 100% \n",
            "\rrequests-2.26.0      | 59 KB     |            |   0% \rrequests-2.26.0      | 59 KB     | ########## | 100% \n",
            "\rconda-4.10.3         | 2.9 MB    |            |   0% \rconda-4.10.3         | 2.9 MB    | ########## | 100% \rconda-4.10.3         | 2.9 MB    | ########## | 100% \n",
            "\rcharset-normalizer-2 | 35 KB     |            |   0% \rcharset-normalizer-2 | 35 KB     | ########## | 100% \n",
            "\rxz-5.2.5             | 341 KB    |            |   0% \rxz-5.2.5             | 341 KB    | ########## | 100% \n",
            "\rsetuptools-58.0.4    | 788 KB    |            |   0% \rsetuptools-58.0.4    | 788 KB    | ########## | 100% \n",
            "\rsix-1.16.0           | 18 KB     |            |   0% \rsix-1.16.0           | 18 KB     | ########8  |  88% \rsix-1.16.0           | 18 KB     | ########## | 100% \n",
            "\rurllib3-1.26.6       | 112 KB    |            |   0% \rurllib3-1.26.6       | 112 KB    | ########## | 100% \n",
            "\ryaml-0.2.5           | 75 KB     |            |   0% \ryaml-0.2.5           | 75 KB     | ########## | 100% \n",
            "\rpysocks-1.7.1        | 31 KB     |            |   0% \rpysocks-1.7.1        | 31 KB     | ########## | 100% \n",
            "\rbrotlipy-0.7.0       | 320 KB    |            |   0% \rbrotlipy-0.7.0       | 320 KB    | ########## | 100% \n",
            "\rconda-package-handli | 882 KB    |            |   0% \rconda-package-handli | 882 KB    | ########## | 100% \n",
            "\rsqlite-3.36.0        | 990 KB    |            |   0% \rsqlite-3.36.0        | 990 KB    | ########## | 100% \n",
            "\rreadline-8.1         | 362 KB    |            |   0% \rreadline-8.1         | 362 KB    | ########## | 100% \n",
            "\rcertifi-2021.5.30    | 139 KB    |            |   0% \rcertifi-2021.5.30    | 139 KB    | ########## | 100% \n",
            "\rtk-8.6.11            | 3.0 MB    |            |   0% \rtk-8.6.11            | 3.0 MB    | ########## | 100% \rtk-8.6.11            | 3.0 MB    | ########## | 100% \n",
            "\rpip-21.0.1           | 1.8 MB    |            |   0% \rpip-21.0.1           | 1.8 MB    | ########## | 100% \rpip-21.0.1           | 1.8 MB    | ########## | 100% \n",
            "\rpython-3.6.13        | 32.5 MB   |            |   0% \rpython-3.6.13        | 32.5 MB   | #9         |  19% \rpython-3.6.13        | 32.5 MB   | ####7      |  48% \rpython-3.6.13        | 32.5 MB   | #######6   |  76% \rpython-3.6.13        | 32.5 MB   | ########## | 100% \n",
            "\rcryptography-3.4.7   | 903 KB    |            |   0% \rcryptography-3.4.7   | 903 KB    | ########## | 100% \n",
            "\rpyopenssl-20.0.1     | 49 KB     |            |   0% \rpyopenssl-20.0.1     | 49 KB     | ########## | 100% \n",
            "\rpycparser-2.20       | 94 KB     |            |   0% \rpycparser-2.20       | 94 KB     | ########## | 100% \n",
            "\rruamel_yaml-0.15.100 | 253 KB    |            |   0% \rruamel_yaml-0.15.100 | 253 KB    | ########## | 100% \n",
            "\rwheel-0.37.0         | 33 KB     |            |   0% \rwheel-0.37.0         | 33 KB     | ########## | 100% \n",
            "\rpycosat-0.6.3        | 82 KB     |            |   0% \rpycosat-0.6.3        | 82 KB     | ########## | 100% \n",
            "\ridna-3.2             | 48 KB     |            |   0% \ridna-3.2             | 48 KB     | ########## | 100% \n",
            "Preparing transaction: ...working... done\n",
            "Verifying transaction: ...working... done\n",
            "Executing transaction: ...working... done\n",
            "Collecting package metadata (current_repodata.json): ...working... done\n",
            "Solving environment: ...working... done\n",
            "\n",
            "## Package Plan ##\n",
            "\n",
            "  environment location: /usr/local\n",
            "\n",
            "\n",
            "The following packages will be downloaded:\n",
            "\n",
            "    package                    |            build\n",
            "    ---------------------------|-----------------\n",
            "    _openmp_mutex-4.5          |            1_gnu          22 KB\n",
            "    ld_impl_linux-64-2.35.1    |       h7274673_9         586 KB\n",
            "    libgcc-ng-9.3.0            |      h5101ec6_17         4.8 MB\n",
            "    libgomp-9.3.0              |      h5101ec6_17         311 KB\n",
            "    libstdcxx-ng-9.3.0         |      hd4cf53a_17         3.1 MB\n",
            "    ncurses-6.2                |       he6710b0_1         817 KB\n",
            "    tqdm-4.62.2                |     pyhd3eb1b0_1          96 KB\n",
            "    ------------------------------------------------------------\n",
            "                                           Total:         9.7 MB\n",
            "\n",
            "The following NEW packages will be INSTALLED:\n",
            "\n",
            "  _openmp_mutex      pkgs/main/linux-64::_openmp_mutex-4.5-1_gnu\n",
            "  libgomp            pkgs/main/linux-64::libgomp-9.3.0-h5101ec6_17\n",
            "\n",
            "The following packages will be REMOVED:\n",
            "\n",
            "  libedit-3.1.20181209-hc058e9b_0\n",
            "\n",
            "The following packages will be UPDATED:\n",
            "\n",
            "  ld_impl_linux-64                        2.33.1-h53a641e_7 --> 2.35.1-h7274673_9\n",
            "  libgcc-ng                                9.1.0-hdf63c60_0 --> 9.3.0-h5101ec6_17\n",
            "  libstdcxx-ng                             9.1.0-hdf63c60_0 --> 9.3.0-hd4cf53a_17\n",
            "  ncurses                                    6.2-he6710b0_0 --> 6.2-he6710b0_1\n",
            "  tqdm                                          4.42.1-py_0 --> 4.62.2-pyhd3eb1b0_1\n",
            "\n",
            "\n",
            "\n",
            "Downloading and Extracting Packages\n",
            "\rld_impl_linux-64-2.3 | 586 KB    |            |   0% \rld_impl_linux-64-2.3 | 586 KB    | ########## | 100% \rld_impl_linux-64-2.3 | 586 KB    | ########## | 100% \n",
            "\r_openmp_mutex-4.5    | 22 KB     |            |   0% \r_openmp_mutex-4.5    | 22 KB     | ########## | 100% \n",
            "\rlibstdcxx-ng-9.3.0   | 3.1 MB    |            |   0% \rlibstdcxx-ng-9.3.0   | 3.1 MB    | ########## | 100% \rlibstdcxx-ng-9.3.0   | 3.1 MB    | ########## | 100% \n",
            "\rncurses-6.2          | 817 KB    |            |   0% \rncurses-6.2          | 817 KB    | ########## | 100% \rncurses-6.2          | 817 KB    | ########## | 100% \n",
            "\rtqdm-4.62.2          | 96 KB     |            |   0% \rtqdm-4.62.2          | 96 KB     | ########## | 100% \n",
            "\rlibgcc-ng-9.3.0      | 4.8 MB    |            |   0% \rlibgcc-ng-9.3.0      | 4.8 MB    | ########## | 100% \rlibgcc-ng-9.3.0      | 4.8 MB    | ########## | 100% \n",
            "\rlibgomp-9.3.0        | 311 KB    |            |   0% \rlibgomp-9.3.0        | 311 KB    | ########## | 100% \n",
            "Preparing transaction: ...working... done\n",
            "Verifying transaction: ...working... done\n",
            "Executing transaction: ...working... done\n"
          ]
        }
      ]
    },
    {
      "cell_type": "code",
      "metadata": {
        "id": "m60kPngGCTB1",
        "outputId": "c2c6b227-3c0d-40dd-9bf0-dceefd9d1d6c",
        "colab": {
          "base_uri": "https://localhost:8080/"
        }
      },
      "source": [
        "import sys\n",
        "\n",
        "sys.path"
      ],
      "execution_count": 7,
      "outputs": [
        {
          "output_type": "execute_result",
          "data": {
            "text/plain": [
              "['',\n",
              " '/content',\n",
              " '/env/python',\n",
              " '/usr/lib/python37.zip',\n",
              " '/usr/lib/python3.7',\n",
              " '/usr/lib/python3.7/lib-dynload',\n",
              " '/usr/local/lib/python3.7/dist-packages',\n",
              " '/usr/lib/python3/dist-packages',\n",
              " '/usr/local/lib/python3.7/dist-packages/IPython/extensions',\n",
              " '/root/.ipython',\n",
              " '/usr/local/lib/python3.7/site-packages/']"
            ]
          },
          "metadata": {},
          "execution_count": 7
        }
      ]
    },
    {
      "cell_type": "code",
      "metadata": {
        "id": "25AanXTj-zkY"
      },
      "source": [
        "import sys\n",
        "\n",
        "_ = (sys.path.append(\"/usr/local/lib/python3.7/site-packages/\"))"
      ],
      "execution_count": 8,
      "outputs": []
    },
    {
      "cell_type": "code",
      "metadata": {
        "id": "VMJ_zmbgC1-V",
        "outputId": "d605c705-cc32-4845-f3c6-a5479144e46b",
        "colab": {
          "base_uri": "https://localhost:8080/"
        }
      },
      "source": [
        "!conda env create -n qiime2-2021.8 --file qiime2-2021.8-py38-linux-conda.yml"
      ],
      "execution_count": 9,
      "outputs": [
        {
          "output_type": "stream",
          "name": "stdout",
          "text": [
            "\n",
            "SpecNotFound: Invalid name, try the format: user/package\n",
            "\n"
          ]
        }
      ]
    },
    {
      "cell_type": "code",
      "metadata": {
        "id": "xnP4ybDdDPjy"
      },
      "source": [
        "!conda create --name qiime2 python=3.6.13"
      ],
      "execution_count": null,
      "outputs": []
    },
    {
      "cell_type": "code",
      "metadata": {
        "id": "IYzUbkxGGvZn",
        "outputId": "aef2ddf2-2f2f-4f1c-f9d7-d2fd2ed66a67",
        "colab": {
          "base_uri": "https://localhost:8080/"
        }
      },
      "source": [
        "!conda install bash"
      ],
      "execution_count": 10,
      "outputs": [
        {
          "output_type": "stream",
          "name": "stdout",
          "text": [
            "Collecting package metadata (current_repodata.json): - \b\b\\ \b\b| \b\b/ \b\b- \b\b\\ \b\bdone\n",
            "Solving environment: / \b\b- \b\b\\ \b\b| \b\b/ \b\bdone\n",
            "\n",
            "## Package Plan ##\n",
            "\n",
            "  environment location: /usr/local\n",
            "\n",
            "  added / updated specs:\n",
            "    - bash\n",
            "\n",
            "\n",
            "The following packages will be downloaded:\n",
            "\n",
            "    package                    |            build\n",
            "    ---------------------------|-----------------\n",
            "    bash-5.0.018               |       h14c3975_0         1.6 MB\n",
            "    ------------------------------------------------------------\n",
            "                                           Total:         1.6 MB\n",
            "\n",
            "The following NEW packages will be INSTALLED:\n",
            "\n",
            "  bash               pkgs/main/linux-64::bash-5.0.018-h14c3975_0\n",
            "\n",
            "\n",
            "Proceed ([y]/n)? y\n",
            "\n",
            "\n",
            "Downloading and Extracting Packages\n",
            "bash-5.0.018         | 1.6 MB    | : 100% 1.0/1 [00:00<00:00,  1.95it/s]               \n",
            "Preparing transaction: \\ \b\bdone\n",
            "Verifying transaction: / \b\bdone\n",
            "Executing transaction: \\ \b\bdone\n"
          ]
        }
      ]
    },
    {
      "cell_type": "code",
      "metadata": {
        "id": "BGdGOa-bOVmM",
        "outputId": "8202d8b1-e932-42df-932b-2ac33b6ee9f8",
        "colab": {
          "base_uri": "https://localhost:8080/"
        }
      },
      "source": [
        "!wget https://data.qiime2.org/distro/core/qiime2-2021.8-py38-linux-conda.yml\n",
        "!conda env update -n base --file qiime2-2021.8-py38-linux-conda.yml"
      ],
      "execution_count": 19,
      "outputs": [
        {
          "output_type": "stream",
          "name": "stdout",
          "text": [
            "--2021-10-05 15:27:01--  https://data.qiime2.org/distro/core/qiime2-2021.8-py38-linux-conda.yml\n",
            "Resolving data.qiime2.org... 54.200.1.12\n",
            "Connecting to data.qiime2.org|54.200.1.12|:443... connected.\n",
            "HTTP request sent, awaiting response... 302 FOUND\n",
            "Location: https://raw.githubusercontent.com/qiime2/environment-files/master/2021.8/release/qiime2-2021.8-py38-linux-conda.yml [following]\n",
            "--2021-10-05 15:27:01--  https://raw.githubusercontent.com/qiime2/environment-files/master/2021.8/release/qiime2-2021.8-py38-linux-conda.yml\n",
            "Resolving raw.githubusercontent.com... 185.199.110.133, 185.199.108.133, 185.199.111.133, ...\n",
            "Connecting to raw.githubusercontent.com|185.199.110.133|:443... connected.\n",
            "HTTP request sent, awaiting response... 200 OK\n",
            "Length: 9224 (9.0K) [text/plain]\n",
            "Saving to: ‘qiime2-2021.8-py38-linux-conda.yml’\n",
            "\n",
            "qiime2-2021.8-py38- 100%[===================>]   9.01K  --.-KB/s    in 0s      \n",
            "\n",
            "2021-10-05 15:27:02 (62.0 MB/s) - ‘qiime2-2021.8-py38-linux-conda.yml’ saved [9224/9224]\n",
            "\n",
            "Collecting package metadata (repodata.json): - \b\b\\ \b\b| \b\b/ \b\b- \b\b\\ \b\b| \b\b/ \b\b- \b\b\\ \b\b| \b\b/ \b\b- \b\b\\ \b\b| \b\b/ \b\b- \b\b\\ \b\b| \b\b/ \b\b- \b\b\\ \b\b| \b\b/ \b\b- \b\b\\ \b\b| \b\b/ \b\b- \b\b\\ \b\b| \b\b/ \b\b- \b\b\\ \b\b| \b\b/ \b\b- \b\b\\ \b\b| \b\b/ \b\b- \b\b\\ \b\b| \b\b/ \b\b- \b\b\\ \b\b| \b\b/ \b\b- \b\b\\ \b\b| \b\b/ \b\b- \b\b\\ \b\b| \b\b/ \b\b- \b\b\\ \b\b| \b\b/ \b\b- \b\b\\ \b\b| \b\b/ \b\b- \b\b\\ \b\b| \b\b/ \b\b- \b\b\\ \b\b| \b\b/ \b\b- \b\b\\ \b\b| \b\b/ \b\b- \b\b\\ \b\b| \b\b/ \b\b- \b\b\\ \b\b| \b\b/ \b\b- \b\b\\ \b\b| \b\b/ \b\b- \b\b\\ \b\b| \b\b/ \b\b- \b\b\\ \b\b| \b\b/ \b\b- \b\b\\ \b\b| \b\b/ \b\b- \b\b\\ \b\b| \b\b/ \b\b- \b\b\\ \b\b| \b\b/ \b\b- \b\b\\ \b\b| \b\b/ \b\b- \b\b\\ \b\b| \b\b/ \b\b- \b\b\\ \b\b| \b\b/ \b\b- \b\b\\ \b\b| \b\b/ \b\b- \b\b\\ \b\b| \b\b/ \b\b- \b\b\\ \b\b| \b\b/ \b\b- \b\b\\ \b\b| \b\b/ \b\b- \b\b\\ \b\b| \b\b/ \b\b- \b\b\\ \b\b| \b\b/ \b\b- \b\b\\ \b\b| \b\b/ \b\b- \b\b\\ \b\b| \b\b/ \b\b- \b\b\\ \b\b| \b\b/ \b\b- \b\b\\ \b\bdone\n",
            "Solving environment: / \b\b- \b\b\\ \b\b| \b\b/ \b\b- \b\b\\ \b\b| \b\b/ \b\b- \b\b\\ \b\b| \b\b/ \b\b- \b\b\\ \b\b| \b\b/ \b\b- \b\b\\ \b\b| \b\b/ \b\b- \b\b\\ \b\b| \b\b/ \b\b- \b\b\\ \b\b| \b\b/ \b\b- \b\b\\ \b\b| \b\b/ \b\b- \b\b\\ \b\b| \b\b/ \b\b- \b\b\\ \b\b| \b\b/ \b\b- \b\b\\ \b\b| \b\b/ \b\b- \b\b\\ \b\b| \b\b/ \b\b- \b\b\\ \b\b| \b\b/ \b\b- \b\b\\ \b\b| \b\b/ \b\b- \b\b\\ \b\b| \b\b/ \b\b- \b\b\\ \b\b| \b\b/ \b\b- \b\b\\ \b\b| \b\b/ \b\b- \b\b\\ \b\b| \b\b/ \b\b- \b\b\\ \b\b| \b\b/ \b\b- \b\b\\ \b\b| \b\b/ \b\b- \b\b\\ \b\b| \b\b/ \b\b- \b\b\\ \b\b| \b\b/ \b\b- \b\b\\ \b\b| \b\b/ \b\b- \b\b\\ \b\b| \b\b/ \b\b- \b\b\\ \b\b| \b\b/ \b\b- \b\b\\ \b\b| \b\b/ \b\b- \b\b\\ \b\b| \b\b/ \b\b- \b\b\\ \b\b| \b\b/ \b\b- \b\b\\ \b\b| \b\b/ \b\b- \b\b\\ \b\b| \b\b/ \b\b- \b\b\\ \b\b| \b\b/ \b\b- \b\b\\ \b\b| \b\b/ \b\b- \b\b\\ \b\b| \b\b/ \b\b- \b\b\\ \b\b| \b\b/ \b\b- \b\b\\ \b\b| \b\b/ \b\b- \b\b\\ \b\b| \b\b/ \b\b- \b\b\\ \b\b| \b\b/ \b\b- \b\b\\ \b\b| \b\b/ \b\b- \b\b\\ \b\b| \b\b/ \b\b- \b\b\\ \b\b| \b\b/ \b\b- \b\b\\ \b\b| \b\b/ \b\b- \b\b\\ \b\b| \b\b/ \b\b- \b\b\\ \b\b| \b\b/ \b\b- \b\b\\ \b\b| \b\b/ \b\b- \b\b\\ \b\b| \b\b/ \b\b- \b\b\\ \b\b| \b\b/ \b\b- \b\b\\ \b\b| \b\b/ \b\b- \b\b\\ \b\b| \b\b/ \b\b- \b\b\\ \b\b| \b\b/ \b\b- \b\b\\ \b\b| \b\b/ \b\b- \b\b\\ \b\b| \b\b/ \b\b- \b\b\\ \b\b| \b\b/ \b\b- \b\b\\ \b\b| \b\b/ \b\b- \b\b\\ \b\b| \b\b/ \b\b- \b\b\\ \b\b| \b\b/ \b\b- \b\b\\ \b\b| \b\b/ \b\b- \b\b\\ \b\b| \b\b/ \b\b- \b\b\\ \b\b| \b\b/ \b\b- \b\b\\ \b\b| \b\b/ \b\b- \b\b\\ \b\b| \b\b/ \b\b- \b\b\\ \b\b| \b\b/ \b\b- \b\b\\ \b\b| \b\b/ \b\b- \b\b\\ \b\b| \b\b/ \b\b- \b\b\\ \b\b| \b\b/ \b\b- \b\b\\ \b\b| \b\b/ \b\b- \b\b\\ \b\b| \b\b/ \b\b- \b\b\\ \b\b| \b\b/ \b\b- \b\b\\ \b\b| \b\b/ \b\b- \b\b\\ \b\b| \b\b/ \b\b- \b\b\\ \b\b| \b\b/ \b\b- \b\b\\ \b\b| \b\b/ \b\b- \b\b\\ \b\b| \b\b/ \b\b- \b\b\\ \b\b| \b\b/ \b\b- \b\b\\ \b\b| \b\b/ \b\b- \b\b\\ \b\b| \b\b/ \b\b- \b\b\\ \b\b| \b\b/ \b\b- \b\b\\ \b\b| \b\b/ \b\b- \b\b\\ \b\b| \b\b/ \b\b- \b\b\\ \b\b| \b\b/ \b\b- \b\b\\ \b\b| \b\b/ \b\b- \b\b\\ \b\b| \b\b/ \b\b- \b\b\\ \b\b| \b\b/ \b\b- \b\b\\ \b\b| \b\b/ \b\b- \b\b\\ \b\b| \b\b/ \b\b- \b\b\\ \b\b| \b\b/ \b\b- \b\b\\ \b\b| \b\b/ \b\b- \b\b\\ \b\b| \b\b/ \b\b- \b\b\\ \b\b| \b\b/ \b\b- \b\b\\ \b\b| \b\b/ \b\b- \b\b\\ \b\b| \b\b/ \b\b- \b\b\\ \b\b| \b\b/ \b\b- \b\b\\ \b\b| \b\b/ \b\b- \b\b\\ \b\b| \b\b/ \b\b- \b\b\\ \b\b| \b\b/ \b\b- \b\b\\ \b\b| \b\b/ \b\b- \b\b\\ \b\b| \b\b/ \b\b- \b\b\\ \b\b| \b\b/ \b\b- \b\b\\ \b\b| \b\b/ \b\b- \b\b\\ \b\b| \b\b/ \b\b- \b\b\\ \b\b| \b\b/ \b\b- \b\b\\ \b\b| \b\b/ \b\b- \b\b\\ \b\b| \b\b/ \b\b- \b\b\\ \b\b| \b\b/ \b\b- \b\b\\ \b\b| \b\b/ \b\b- \b\b\\ \b\b| \b\b/ \b\b- \b\b\\ \b\b| \b\b/ \b\b- \b\b\\ \b\b| \b\b/ \b\b- \b\b\\ \b\b| \b\b/ \b\b- \b\b\\ \b\b| \b\b/ \b\b- \b\b\\ \b\b| \b\b/ \b\b- \b\b\\ \b\b| \b\b/ \b\b- \b\b\\ \b\b| \b\b/ \b\b- \b\b\\ \b\b| \b\b/ \b\b- \b\b\\ \b\b| \b\b/ \b\b- \b\b\\ \b\b| \b\b/ \b\b- \b\b\\ \b\b| \b\b/ \b\b- \b\b\\ \b\b| \b\b/ \b\b- \b\b\\ \b\b| \b\b/ \b\b- \b\b\\ \b\b| \b\b/ \b\b- \b\b\\ \b\b| \b\b/ \b\b- \b\b\\ \b\b| \b\b/ \b\b- \b\b\\ \b\b| \b\b/ \b\b- \b\b\\ \b\b| \b\b/ \b\b- \b\b\\ \b\b| \b\b/ \b\b- \b\b\\ \b\b| \b\b/ \b\b- \b\b\\ \b\b| \b\b/ \b\b- \b\b\\ \b\b| \b\b/ \b\b- \b\b\\ \b\b| \b\b/ \b\b- \b\b\\ \b\b| \b\b/ \b\b- \b\b\\ \b\b| \b\b/ \b\b- \b\b\\ \b\b| \b\b/ \b\b- \b\b\\ \b\b| \b\b/ \b\b- \b\b\\ \b\b| \b\b/ \b\b- \b\b\\ \b\b| \b\b/ \b\b- \b\b\\ \b\b| \b\b/ \b\b- \b\b\\ \b\b| \b\b/ \b\b- \b\b\\ \b\b| \b\b/ \b\b- \b\b\\ \b\b| \b\b/ \b\b- \b\b\\ \b\b| \b\b/ \b\b- \b\b\\ \b\b| \b\b/ \b\b- \b\b\\ \b\b| \b\b/ \b\b- \b\b\\ \b\b| \b\b/ \b\b- \b\b\\ \b\b| \b\b/ \b\b- \b\b\\ \b\b| \b\b/ \b\b- \b\b\\ \b\b| \b\b/ \b\b- \b\b\\ \b\b| \b\b/ \b\b- \b\b\\ \b\b| \b\b/ \b\b- \b\b\\ \b\b| \b\b/ \b\b- \b\b\\ \b\b| \b\b/ \b\b- \b\b\\ \b\b| \b\b/ \b\b- \b\b\\ \b\b| \b\b/ \b\b- \b\b\\ \b\b| \b\b/ \b\b- \b\b\\ \b\b| \b\b/ \b\b- \b\b\\ \b\b| \b\b/ \b\b- \b\b\\ \b\b| \b\b/ \b\b- \b\b\\ \b\b| \b\b/ \b\b- \b\b\\ \b\b| \b\b/ \b\b- \b\b\\ \b\b| \b\b/ \b\b- \b\b\\ \b\bdone\n",
            "\n",
            "Downloading and Extracting Packages\n",
            "ruamel_yaml-0.15.80  | 272 KB    | : 100% 1.0/1 [00:00<00:00,  6.66it/s]\n",
            "conda-package-handli | 927 KB    | : 100% 1.0/1 [00:00<00:00,  5.56it/s]\n",
            "conda-4.10.3         | 3.0 MB    | : 100% 1.0/1 [00:00<00:00,  1.14it/s]\n",
            "pycosat-0.6.3        | 107 KB    | : 100% 1.0/1 [00:00<00:00, 18.45it/s]\n",
            "Preparing transaction: / \b\b- \b\b\\ \b\b| \b\b/ \b\b- \b\b\\ \b\b| \b\b/ \b\b- \b\b\\ \b\b| \b\b/ \b\b- \b\b\\ \b\b| \b\b/ \b\b- \b\b\\ \b\b| \b\b/ \b\b- \b\b\\ \b\b| \b\b/ \b\b- \b\b\\ \b\b| \b\b/ \b\b- \b\b\\ \b\b| \b\b/ \b\b- \b\b\\ \b\b| \b\b/ \b\b- \b\b\\ \b\bdone\n",
            "Verifying transaction: / \b\b- \b\b\\ \b\b| \b\b/ \b\b- \b\b\\ \b\b| \b\b/ \b\b- \b\b\\ \b\b| \b\b/ \b\b- \b\b\\ \b\b| \b\b/ \b\b- \b\b\\ \b\b| \b\b/ \b\b- \b\b\\ \b\b| \b\b/ \b\b- \b\b\\ \b\b| \b\b/ \b\b- \b\b\\ \b\b| \b\b/ \b\b- \b\b\\ \b\b| \b\b/ \b\b- \b\b\\ \b\b| \b\b/ \b\b- \b\b\\ \b\b| \b\b/ \b\b- \b\b\\ \b\b| \b\b/ \b\b- \b\b\\ \b\b| \b\b/ \b\b- \b\b\\ \b\b| \b\b/ \b\b- \b\b\\ \b\b| \b\b/ \b\b- \b\b\\ \b\b| \b\b/ \b\b- \b\b\\ \b\b| \b\b/ \b\b- \b\b\\ \b\b| \b\b/ \b\b- \b\b\\ \b\b| \b\b/ \b\b- \b\b\\ \b\b| \b\b/ \b\b- \b\b\\ \b\b| \b\b/ \b\b- \b\b\\ \b\b| \b\b/ \b\b- \b\b\\ \b\b| \b\b/ \b\b- \b\b\\ \b\b| \b\b/ \b\b- \b\b\\ \b\b| \b\b/ \b\b- \b\b\\ \b\b| \b\b/ \b\b- \b\b\\ \b\b| \b\b/ \b\b- \b\b\\ \b\b| \b\b/ \b\b- \b\b\\ \b\b| \b\b/ \b\b- \b\b\\ \b\b| \b\b/ \b\b- \b\bdone\n",
            "Executing transaction: | \b\b/ \b\b- \b\b\\ \b\b| \b\b/ \b\b- \b\b\\ \b\b| \b\b/ \b\b- \b\b\\ \b\b| \b\b/ \b\b- \b\b\\ \b\b| \b\b/ \b\b- \b\b\\ \b\b| \b\b/ \b\b- \b\b\\ \b\b| \b\b/ \b\b- \b\b\\ \b\b| \b\b/ \b\b- \b\b\\ \b\b| \b\b/ \b\b- \b\b\\ \b\b| \b\b/ \b\b- \b\b\\ \b\b| \b\b/ \b\b- \b\b\\ \b\b| \b\b/ \b\b- \b\b\\ \b\b| \b\b/ \b\b- \b\b\\ \b\b| \b\b/ \b\b- \b\b\\ \b\b| \b\b/ \b\b- \b\b\\ \b\b| \b\b/ \b\b- \b\b\\ \b\b| \b\b/ \b\b- \b\b\\ \b\b| \b\b/ \b\b- \b\b\\ \b\b| \b\b/ \b\b- \b\b\\ \b\b| \b\b/ \b\b- \b\b\\ \b\b| \b\b/ \b\b- \b\b\\ \b\b| \b\b/ \b\b- \b\b\\ \b\b| \b\b/ \b\b- \b\b\\ \b\b| \b\b/ \b\b- \b\b\\ \b\b| \b\b/ \b\b- \b\b\\ \b\b| \b\b/ \b\b- \b\b\\ \b\b| \b\b/ \b\b- \b\b\\ \b\b| \b\b/ \b\b- \b\b\\ \b\b| \b\b/ \b\b- \b\b\\ \b\b| \b\b/ \b\b- \b\b\\ \b\b| \b\b/ \b\b- \b\b\\ \b\b| \b\b/ \b\b- \b\b\\ \b\b| \b\b/ \b\b- \b\b\\ \b\b| \b\b/ \b\b- \b\b\\ \b\b| \b\b/ \b\b- \b\b\\ \b\b| \b\b/ \b\b- \b\b\\ \b\b| \b\b/ \b\b- \b\b\\ \b\b| \b\b/ \b\b- \b\b\\ \b\b| \b\b/ \b\b- \b\b\\ \b\b| \b\b/ \b\b- \b\b\\ \b\b| \b\b/ \b\b- \b\b\\ \b\b| \b\b/ \b\b- \b\b\\ \b\b| \b\b/ \b\b- \b\b\\ \b\b| \b\b/ \b\b- \b\b\\ \b\b| \b\b/ \b\b- \b\b\\ \b\b| \b\b/ \b\b- \b\b\\ \b\b| \b\b/ \b\b- \b\b\\ \b\b| \b\b/ \b\b- \b\b\\ \b\b| \b\b/ \b\b- \b\b\\ \b\b| \b\b/ \b\b- \b\b\\ \b\b| \b\b/ \b\b- \b\b\\ \b\b| \b\b/ \b\b- \b\b\\ \b\b| \b\b/ \b\b- \b\b\\ \b\b| \b\b/ \b\b- \b\b\\ \b\b| \b\b/ \b\b- \b\b\\ \b\b| \b\b/ \b\b- \b\b\\ \b\b| \b\b/ \b\b- \b\b\\ \b\b| \b\b/ \b\b- \b\b\\ \b\b| \b\b/ \b\b- \b\b\\ \b\b| \b\b/ \b\b- \b\b\\ \b\b| \b\b/ \b\b- \b\b\\ \b\b| \b\b/ \b\b- \b\b\\ \b\b| \b\b/ \b\b- \b\b\\ \b\b| \b\b/ \b\b- \b\b\\ \b\b| \b\b/ \b\b- \b\b\\ \b\b| \b\b/ \b\b- \b\b\\ \b\b| \b\b/ \b\b- \b\b\\ \b\b| \b\b/ \b\b- \b\b\\ \b\b| \b\b/ \b\b- \b\b\\ \b\b| \b\b/ \b\b- \b\b\\ \b\b| \b\b/ \b\b- \b\b\\ \b\b| \b\b/ \b\b- \b\b\\ \b\b| \b\b/ \b\b- \b\b\\ \b\b| \b\b/ Enabling notebook extension jupyter-js-widgets/extension...\n",
            "Paths used for configuration of notebook: \n",
            "    \t/usr/local/etc/jupyter/nbconfig/notebook.d/plotlywidget.json\n",
            "    \t/usr/local/etc/jupyter/nbconfig/notebook.d/widgetsnbextension.json\n",
            "    \t/usr/local/etc/jupyter/nbconfig/notebook.json\n",
            "Paths used for configuration of notebook: \n",
            "    \t/usr/local/etc/jupyter/nbconfig/notebook.d/plotlywidget.json\n",
            "    \t/usr/local/etc/jupyter/nbconfig/notebook.d/widgetsnbextension.json\n",
            "      - Validating: \u001b[32mOK\u001b[0m\n",
            "Paths used for configuration of notebook: \n",
            "    \t/usr/local/etc/jupyter/nbconfig/notebook.d/plotlywidget.json\n",
            "    \t/usr/local/etc/jupyter/nbconfig/notebook.d/widgetsnbextension.json\n",
            "    \t/usr/local/etc/jupyter/nbconfig/notebook.json\n",
            "\n",
            "\b\b- \b\b\\ \b\b| \b\b/ \b\b- \b\b\\ \b\b| \b\b/ \b\b- \b\b\\ \b\b| \b\b/ \b\b- \b\b\\ \b\b| \b\b/ \b\b- \b\b\\ \b\b| \b\b/ \b\b- \b\b\\ \b\b| \b\b/ \b\b- \b\b\\ \b\b| \b\b/ \b\b- \b\b\\ \b\b| \b\b/ \b\b- \b\b\\ \b\b| \b\b/ \b\b- \b\b\\ \b\b| \b\b/ \b\b- \b\b\\ \b\b| \b\b/ \b\b- \b\b\\ \b\b| \b\b/ \b\b- \b\b\\ \b\b| \b\b/ \b\b- \b\b\\ \b\b| \b\b/ \b\b- \b\b\\ \b\b| \b\b/ \b\b- \b\b\\ \b\b| \b\b/ \b\b- \b\b\\ \b\b| \b\b/ \b\b- \b\b\\ \b\b| \b\b/ \b\b- \b\b\\ \b\b| \b\b/ \b\b- \b\b\\ \b\b| \b\b/ \b\b- \b\b\\ \b\b| \b\b/ \b\b- \b\b\\ \b\b| \b\b/ \b\b- \b\b\\ \b\b| \b\b/ \b\b- \b\b\\ \b\b| \b\b/ \b\b- \b\b\\ \b\b| \b\b/ \b\b- \b\b\\ \b\b| \b\b/ \b\b- \b\b\\ \b\b| \b\b/ \b\b- \b\b\\ \b\b| \b\b/ \b\b- \b\b\\ \b\b| \b\b/ \b\b- \b\b\\ \b\b| \b\b/ \b\b- \b\b\\ \b\b| \b\b/ \b\b- \b\b\\ \b\b| \b\b/ \b\b- \b\b\\ \b\b| \b\b/ \b\b- \b\b\\ \b\b| \b\b/ \b\b- \b\b\\ \b\b| \b\b/ \b\b- \b\b\\ \b\b| \b\b/ \b\b- \b\b\\ \b\b| \b\b/ \b\b- \b\b\\ \b\b| \b\b/ \b\b- \b\b\\ \b\b| \b\b/ \b\b- \b\b\\ \b\b| \b\b/ \b\b- \b\b\\ \b\b| \b\b/ \b\b- \b\bdone\n",
            "#\n",
            "# To activate this environment, use\n",
            "#\n",
            "#     $ conda activate base\n",
            "#\n",
            "# To deactivate an active environment, use\n",
            "#\n",
            "#     $ conda deactivate\n",
            "\n"
          ]
        }
      ]
    },
    {
      "cell_type": "code",
      "metadata": {
        "id": "dPKKc3YaP1t8",
        "outputId": "eaeb67e2-cace-424a-b671-954a110cd41f",
        "colab": {
          "base_uri": "https://localhost:8080/"
        }
      },
      "source": [
        "!qiime --help"
      ],
      "execution_count": 23,
      "outputs": [
        {
          "output_type": "stream",
          "name": "stdout",
          "text": [
            "\u001b[33mQIIME is caching your current deployment for improved performance. This may take a few moments and should only happen once per deployment.\u001b[0m\n",
            "Usage: \u001b[34mqiime\u001b[0m [OPTIONS] COMMAND [ARGS]...\n",
            "\n",
            "  QIIME 2 command-line interface (q2cli)\n",
            "  --------------------------------------\n",
            "\n",
            "  To get help with QIIME 2, visit\n",
            "  https://qiime2.org.\n",
            "\n",
            "  To enable tab completion in Bash, run the\n",
            "  following command or add it to your\n",
            "  .bashrc/.bash_profile:\n",
            "\n",
            "      source tab-qiime\n",
            "\n",
            "  To enable tab completion in ZSH, run the\n",
            "  following commands or add them to your .zshrc:\n",
            "\n",
            "      autoload -Uz compinit && compinit\n",
            "      autoload bashcompinit && bashcompinit\n",
            "      source tab-qiime\n",
            "\n",
            "\u001b[1mOptions\u001b[0m:\n",
            "  \u001b[34m--version\u001b[0m   Show the version and exit.\n",
            "  \u001b[34m--help\u001b[0m      Show this message and exit.\n",
            "\n",
            "\u001b[1mCommands\u001b[0m:\n",
            "  \u001b[34minfo\u001b[0m                Display information about...\n",
            "  \u001b[34mtools\u001b[0m               Tools for working with...\n",
            "  \u001b[34mdev\u001b[0m                 Utilities for developers...\n",
            "  \u001b[34malignment\u001b[0m           Plugin for generating and\n",
            "                      manipulating alignments.\n",
            "\n",
            "  \u001b[34mcomposition\u001b[0m         Plugin for compositional\n",
            "                      data analysis.\n",
            "\n",
            "  \u001b[34mcutadapt\u001b[0m            Plugin for removing adapter\n",
            "                      sequences, primers, and\n",
            "                      other unwanted sequence from\n",
            "                      sequence data.\n",
            "\n",
            "  \u001b[34mdada2\u001b[0m               Plugin for sequence quality\n",
            "                      control with DADA2.\n",
            "\n",
            "  \u001b[34mdeblur\u001b[0m              Plugin for sequence quality\n",
            "                      control with Deblur.\n",
            "\n",
            "  \u001b[34mdemux\u001b[0m               Plugin for demultiplexing &\n",
            "                      viewing sequence quality.\n",
            "\n",
            "  \u001b[34mdiversity\u001b[0m           Plugin for exploring\n",
            "                      community diversity.\n",
            "\n",
            "  \u001b[34mdiversity-lib\u001b[0m       Plugin for computing\n",
            "                      community diversity.\n",
            "\n",
            "  \u001b[34memperor\u001b[0m             Plugin for ordination\n",
            "                      plotting with Emperor.\n",
            "\n",
            "  \u001b[34mfeature-classifier\u001b[0m  Plugin for taxonomic\n",
            "                      classification.\n",
            "\n",
            "  \u001b[34mfeature-table\u001b[0m       Plugin for working with\n",
            "                      sample by feature tables.\n",
            "\n",
            "  \u001b[34mfragment-insertion\u001b[0m  Plugin for extending\n",
            "                      phylogenies.\n",
            "\n",
            "  \u001b[34mgneiss\u001b[0m              Plugin for building\n",
            "                      compositional models.\n",
            "\n",
            "  \u001b[34mlongitudinal\u001b[0m        Plugin for paired sample and\n",
            "                      time series analyses.\n",
            "\n",
            "  \u001b[34mmetadata\u001b[0m            Plugin for working with\n",
            "                      Metadata.\n",
            "\n",
            "  \u001b[34mphylogeny\u001b[0m           Plugin for generating and\n",
            "                      manipulating phylogenies.\n",
            "\n",
            "  \u001b[34mquality-control\u001b[0m     Plugin for quality control\n",
            "                      of feature and sequence\n",
            "                      data.\n",
            "\n",
            "  \u001b[34mquality-filter\u001b[0m      Plugin for PHRED-based\n",
            "                      filtering and trimming.\n",
            "\n",
            "  \u001b[34msample-classifier\u001b[0m   Plugin for machine learning\n",
            "                      prediction of sample\n",
            "                      metadata.\n",
            "\n",
            "  \u001b[34mtaxa\u001b[0m                Plugin for working with\n",
            "                      feature taxonomy\n",
            "                      annotations.\n",
            "\n",
            "  \u001b[34mvsearch\u001b[0m             Plugin for clustering and\n",
            "                      dereplicating with vsearch.\n"
          ]
        }
      ]
    },
    {
      "cell_type": "code",
      "metadata": {
        "id": "sl-hb8JmRMMV"
      },
      "source": [
        "!mkdir Data-Wolf\n"
      ],
      "execution_count": 24,
      "outputs": []
    },
    {
      "cell_type": "code",
      "metadata": {
        "id": "2N2vXe_fFKFC"
      },
      "source": [
        "!cd Data-Wolf"
      ],
      "execution_count": 27,
      "outputs": []
    },
    {
      "cell_type": "code",
      "metadata": {
        "id": "3WT5fagrFbD5",
        "outputId": "22e7eab6-3558-4088-d9f0-06fb4ebcb109",
        "colab": {
          "base_uri": "https://localhost:8080/"
        }
      },
      "source": [
        "!wget https://accounts.google.com/ServiceLogin?passive=1209600&osid=1&continue=https://takeout.google.com/u/0/settings/takeout/download/authenticate?nonce%3D57n9on6ahlprg%26continue%3Dhttps://doc-4c-10-drive-data-export.googleusercontent.com/download/r2lv5s9v5s0u8s7hu3g1hcd0a2hb06te/fjo4059megpple28smctaaltsr0jvgtr/1633446000000/9de83f7e-9967-4bc7-bd82-6d17dac98e2e/102362787248146190732/ADt3v-O4tFTyb9vvqR1O6us0v465G60nmmBYUDYRTzKBIwM9WosMIxHO0KYoXl8jEGVIwxUKg9J6Tr7x--qxGWAyRrauHzEA0Q3r2mq-Xq4w52wu4HY1xUN8Z3viK1Cu7bkfetS5KdsjDf4lUwH2OdOWwjg4UHV-DUp8FPOWluSdDby1mxPgT4yWt7I7-eSVbsRwXF6n6heqQFCGHMrVculAdbfAhIuB-62y4bz_Viytm5PCM2CXmrfCVCSYd_HVvAZUcPLernQInabknrG91C0r7ZWVQQIYdFNIiCaYbd9ln_fAKV-O_IoedW7vHZbfDiqRpos3ikTb?authuser%253D0%26hash%3Dhff0plbshpbmg5thjk4grmshgrh3376h&followup=https://takeout.google.com/u/0/settings/takeout/download/authenticate?nonce%3D57n9on6ahlprg%26continue%3Dhttps://doc-4c-10-drive-data-export.googleusercontent.com/download/r2lv5s9v5s0u8s7hu3g1hcd0a2hb06te/fjo4059megpple28smctaaltsr0jvgtr/1633446000000/9de83f7e-9967-4bc7-bd82-6d17dac98e2e/102362787248146190732/ADt3v-O4tFTyb9vvqR1O6us0v465G60nmmBYUDYRTzKBIwM9WosMIxHO0KYoXl8jEGVIwxUKg9J6Tr7x--qxGWAyRrauHzEA0Q3r2mq-Xq4w52wu4HY1xUN8Z3viK1Cu7bkfetS5KdsjDf4lUwH2OdOWwjg4UHV-DUp8FPOWluSdDby1mxPgT4yWt7I7-eSVbsRwXF6n6heqQFCGHMrVculAdbfAhIuB-62y4bz_Viytm5PCM2CXmrfCVCSYd_HVvAZUcPLernQInabknrG91C0r7ZWVQQIYdFNIiCaYbd9ln_fAKV-O_IoedW7vHZbfDiqRpos3ikTb?authuser%253D0%26hash%3Dhff0plbshpbmg5thjk4grmshgrh3376h&authuser=0"
      ],
      "execution_count": 28,
      "outputs": [
        {
          "output_type": "stream",
          "name": "stdout",
          "text": [
            "--2021-10-05 15:33:46--  https://accounts.google.com/ServiceLogin?passive=1209600\n",
            "Resolving accounts.google.com... 108.177.97.84, 2404:6800:4008:c05::54\n",
            "Connecting to accounts.google.com|108.177.97.84|:443... connected.\n",
            "HTTP request sent, awaiting response... 200 OK\n",
            "Length: unspecified [text/html]\n",
            "Saving to: ‘ServiceLogin?passive=1209600’\n",
            "\n",
            "\r          ServiceLo     [<=>                 ]       0  --.-KB/s               \rServiceLogin?passiv     [ <=>                ]  87.24K  --.-KB/s    in 0.002s  \n",
            "\n",
            "2021-10-05 15:33:46 (47.4 MB/s) - ‘ServiceLogin?passive=1209600’ saved [89338]\n",
            "\n"
          ]
        }
      ]
    },
    {
      "cell_type": "code",
      "metadata": {
        "id": "UWO_ExKnF-2L",
        "outputId": "8ca03e10-b67a-4384-a3e8-c471af754ed2",
        "colab": {
          "base_uri": "https://localhost:8080/"
        }
      },
      "source": [
        "from google.colab import drive\n",
        "drive.mount('/content/drive')"
      ],
      "execution_count": 35,
      "outputs": [
        {
          "output_type": "stream",
          "name": "stdout",
          "text": [
            "Drive already mounted at /content/drive; to attempt to forcibly remount, call drive.mount(\"/content/drive\", force_remount=True).\n"
          ]
        }
      ]
    },
    {
      "cell_type": "code",
      "metadata": {
        "id": "f-WOAokiGRZI"
      },
      "source": [
        "!cp -r /content/drive/MyDrive/210730_Maya_Noemi_16S /content/Data-Wolf"
      ],
      "execution_count": 40,
      "outputs": []
    },
    {
      "cell_type": "code",
      "metadata": {
        "id": "puFYCzT3Hm2O",
        "outputId": "84c6850e-5522-4e39-d463-5536a53fe390",
        "colab": {
          "base_uri": "https://localhost:8080/"
        }
      },
      "source": [
        "!qiime tools import \\\n",
        "--type 'EMPSingleEndSequences' \\\n",
        "--input-path /content/Data-Wolf/210730_Maya_Noemi_16S/FT-SA102520-FT-SPN02108_000000000-G8YHF \\\n",
        "--output-path 'text.qza' \\"
      ],
      "execution_count": 50,
      "outputs": [
        {
          "output_type": "stream",
          "name": "stdout",
          "text": [
            "\u001b[31m\u001b[1mThere was a problem importing /content/Data-Wolf/210730_Maya_Noemi_16S/FT-SA102520-FT-SPN02108_000000000-G8YHF:\n",
            "\n",
            "  Missing one or more files for EMPSingleEndDirFmt: 'sequences.fastq.gz'\u001b[0m\n",
            "\n"
          ]
        }
      ]
    },
    {
      "cell_type": "code",
      "metadata": {
        "id": "70eudR9UGRMH"
      },
      "source": [
        "!cd tutorial"
      ],
      "execution_count": 53,
      "outputs": []
    },
    {
      "cell_type": "code",
      "metadata": {
        "id": "nQqO8kzAPHb6",
        "outputId": "7148f2d3-5dbf-4bba-f191-79287737399a",
        "colab": {
          "base_uri": "https://localhost:8080/"
        }
      },
      "source": [
        "!wget \\\n",
        "  -O \"emp-single-end-sequences/sequences.fastq.gz\" \\\n",
        "  \"https://data.qiime2.org/2021.8/tutorials/moving-pictures/emp-single-end-sequences/sequences.fastq.gz\""
      ],
      "execution_count": 58,
      "outputs": [
        {
          "output_type": "stream",
          "name": "stdout",
          "text": [
            "--2021-10-05 16:15:10--  https://data.qiime2.org/2021.8/tutorials/moving-pictures/emp-single-end-sequences/sequences.fastq.gz\n",
            "Resolving data.qiime2.org... 54.200.1.12\n",
            "Connecting to data.qiime2.org|54.200.1.12|:443... connected.\n",
            "HTTP request sent, awaiting response... 302 FOUND\n",
            "Location: https://s3-us-west-2.amazonaws.com/qiime2-data/2021.8/tutorials/moving-pictures/emp-single-end-sequences/sequences.fastq.gz [following]\n",
            "--2021-10-05 16:15:11--  https://s3-us-west-2.amazonaws.com/qiime2-data/2021.8/tutorials/moving-pictures/emp-single-end-sequences/sequences.fastq.gz\n",
            "Resolving s3-us-west-2.amazonaws.com... 52.92.145.96\n",
            "Connecting to s3-us-west-2.amazonaws.com|52.92.145.96|:443... connected.\n",
            "HTTP request sent, awaiting response... 200 OK\n",
            "Length: 25303756 (24M) [binary/octet-stream]\n",
            "Saving to: ‘emp-single-end-sequences/sequences.fastq.gz’\n",
            "\n",
            "emp-single-end-sequ 100%[===================>]  24.13M  11.3MB/s    in 2.1s    \n",
            "\n",
            "2021-10-05 16:15:14 (11.3 MB/s) - ‘emp-single-end-sequences/sequences.fastq.gz’ saved [25303756/25303756]\n",
            "\n"
          ]
        }
      ]
    },
    {
      "cell_type": "code",
      "metadata": {
        "id": "8OhWq8TeMI7P",
        "outputId": "dd49e3c9-6ac2-42dc-e5c4-9dce3a8cfdb4",
        "colab": {
          "base_uri": "https://localhost:8080/"
        }
      },
      "source": [
        "!mkdir emp-single-end-sequences\n",
        "!wget \\\n",
        "  -O \"emp-single-end-sequences/barcodes.fastq.gz\" \\\n",
        "  \"https://data.qiime2.org/2021.8/tutorials/moving-pictures/emp-single-end-sequences/barcodes.fastq.gz\""
      ],
      "execution_count": 56,
      "outputs": [
        {
          "output_type": "stream",
          "name": "stdout",
          "text": [
            "--2021-10-05 16:02:18--  https://data.qiime2.org/2021.8/tutorials/moving-pictures/emp-single-end-sequences/barcodes.fastq.gz\n",
            "Resolving data.qiime2.org... 54.200.1.12\n",
            "Connecting to data.qiime2.org|54.200.1.12|:443... connected.\n",
            "HTTP request sent, awaiting response... 302 FOUND\n",
            "Location: https://s3-us-west-2.amazonaws.com/qiime2-data/2021.8/tutorials/moving-pictures/emp-single-end-sequences/barcodes.fastq.gz [following]\n",
            "--2021-10-05 16:02:19--  https://s3-us-west-2.amazonaws.com/qiime2-data/2021.8/tutorials/moving-pictures/emp-single-end-sequences/barcodes.fastq.gz\n",
            "Resolving s3-us-west-2.amazonaws.com... 52.218.250.120\n",
            "Connecting to s3-us-west-2.amazonaws.com|52.218.250.120|:443... connected.\n",
            "HTTP request sent, awaiting response... 200 OK\n",
            "Length: 3783785 (3.6M) [application/x-gzip]\n",
            "Saving to: ‘emp-single-end-sequences/barcodes.fastq.gz’\n",
            "\n",
            "emp-single-end-sequ 100%[===================>]   3.61M  3.43MB/s    in 1.1s    \n",
            "\n",
            "2021-10-05 16:02:20 (3.43 MB/s) - ‘emp-single-end-sequences/barcodes.fastq.gz’ saved [3783785/3783785]\n",
            "\n"
          ]
        }
      ]
    },
    {
      "cell_type": "code",
      "metadata": {
        "id": "yo0zvtBDMSm8",
        "outputId": "6bfb5389-15cc-413a-b52d-d644c6c6e889",
        "colab": {
          "base_uri": "https://localhost:8080/"
        }
      },
      "source": [
        "!qiime tools import \\\n",
        "  --type EMPSingleEndSequences \\\n",
        "  --input-path emp-single-end-sequences \\\n",
        "  --output-path emp-single-end-sequences.qza"
      ],
      "execution_count": 59,
      "outputs": [
        {
          "output_type": "stream",
          "name": "stdout",
          "text": [
            "\u001b[32mImported emp-single-end-sequences as EMPSingleEndDirFmt to emp-single-end-sequences.qza\u001b[0m\n"
          ]
        }
      ]
    },
    {
      "cell_type": "code",
      "metadata": {
        "id": "YT6R33wVP5xO"
      },
      "source": [
        "!cp /content/Data-Wolf/210730_Maya_Noemi_16S/FT-SA102520-FT-SPN02108_000000000-G8YHF/SE7363_SA102520_S1_L001_R1_001.fastq /content/Data-Wolf/"
      ],
      "execution_count": 61,
      "outputs": []
    },
    {
      "cell_type": "code",
      "metadata": {
        "id": "Sf_QNLoEQBkH"
      },
      "source": [
        "!cp /content/Data-Wolf/210730_Maya_Noemi_16S/FT-SA102520-FT-SPN02108_000000000-G8YHF/SE7363_SA102520_S1_L001_R1_001.fastq.gz /content/Data-Wolf/"
      ],
      "execution_count": 62,
      "outputs": []
    },
    {
      "cell_type": "code",
      "metadata": {
        "id": "EvnkQGWSQPIz"
      },
      "source": [
        ""
      ],
      "execution_count": null,
      "outputs": []
    },
    {
      "cell_type": "code",
      "metadata": {
        "id": "nHSmzn42Pboc",
        "outputId": "0db5f8b1-f585-4711-b88b-9a49bf0dc666",
        "colab": {
          "base_uri": "https://localhost:8080/"
        }
      },
      "source": [
        "!qiime tools import \\\n",
        "  --type EMPSingleEndSequences \\\n",
        "  --input-path /content/Data-Wolf/ \\\n",
        "  --output-path mock.qza"
      ],
      "execution_count": 64,
      "outputs": [
        {
          "output_type": "stream",
          "name": "stdout",
          "text": [
            "\u001b[31m\u001b[1mThere was a problem importing /content/Data-Wolf/:\n",
            "\n",
            "  /content/Data-Wolf/sequences.fastq.gz is not a(n) FastqGzFormat file:\n",
            "\n",
            "  File is uncompressed\u001b[0m\n",
            "\n"
          ]
        }
      ]
    }
  ]
}